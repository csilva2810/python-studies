{
 "cells": [
  {
   "cell_type": "markdown",
   "metadata": {},
   "source": [
    "# Sets\n",
    "\n",
    "## Base syntax\n",
    "my_set = {1, 2, 3}\n",
    "\n",
    "## Creating from lists\n",
    "my_set = set([1, 2, 3])\n",
    "\n",
    "## Rules\n",
    "Sets will never have duplicated elements. The result of `{1, 1, 2, 2, 3, 4}` will be `{1, 2, 3, 4}`.\n",
    "Sets don't have index accessors, like lists. Order is not important."
   ]
  },
  {
   "cell_type": "code",
   "execution_count": 1,
   "metadata": {},
   "outputs": [
    {
     "name": "stdout",
     "output_type": "stream",
     "text": [
      "{2, 35, 29, 10, 11, 45}\n"
     ]
    }
   ],
   "source": [
    "my_set = {35, 45, 10, 2, 11, 29}\n",
    "print(my_set)"
   ]
  },
  {
   "cell_type": "markdown",
   "metadata": {},
   "source": [
    "## Operators\n",
    "\n",
    "`|` will return all the items in a and b."
   ]
  },
  {
   "cell_type": "code",
   "execution_count": 2,
   "metadata": {},
   "outputs": [
    {
     "name": "stdout",
     "output_type": "stream",
     "text": [
      "{1, 2, 3, 4, 6, 7}\n"
     ]
    }
   ],
   "source": [
    "a = {1, 2, 3}\n",
    "b = {2, 4, 6, 7}\n",
    "print(a | b)"
   ]
  },
  {
   "cell_type": "markdown",
   "metadata": {},
   "source": [
    "`&` will return only the items that are present in both sets"
   ]
  },
  {
   "cell_type": "code",
   "execution_count": 3,
   "metadata": {},
   "outputs": [
    {
     "name": "stdout",
     "output_type": "stream",
     "text": [
      "{2}\n"
     ]
    }
   ],
   "source": [
    "a = {1, 2, 3}\n",
    "b = {2, 4, 6, 7}\n",
    "print(a & b)"
   ]
  },
  {
   "cell_type": "markdown",
   "metadata": {},
   "source": [
    "`-` will return only items that are present in **a** but not in **b**"
   ]
  },
  {
   "cell_type": "code",
   "execution_count": 4,
   "metadata": {},
   "outputs": [
    {
     "name": "stdout",
     "output_type": "stream",
     "text": [
      "{2}\n"
     ]
    }
   ],
   "source": [
    "a = {1, 2, 3}\n",
    "b = {1, 3}\n",
    "print(a - b)"
   ]
  },
  {
   "cell_type": "markdown",
   "metadata": {},
   "source": [
    "`^` will return only items that are present in a or b but not both"
   ]
  },
  {
   "cell_type": "code",
   "execution_count": 6,
   "metadata": {},
   "outputs": [
    {
     "name": "stdout",
     "output_type": "stream",
     "text": [
      "{2, 4, 5}\n"
     ]
    }
   ],
   "source": [
    "a = {1, 2, 3, 4}\n",
    "b = {1, 3, 5}\n",
    "print(a ^ b)"
   ]
  },
  {
   "cell_type": "markdown",
   "metadata": {},
   "source": [
    "# Dictionaries\n",
    "\n",
    "## Base syntax\n",
    "person = {'name': 'Carlos', 'age': 32}\n",
    "\n",
    "## Accessors\n",
    "**simple**\n",
    "\n",
    "person['name'] => 'Carlos'\n",
    "\n",
    "**get**\n",
    "\n",
    "person.get('name', 'John doe')\n",
    "Will return the value if exists and defaults to John doe\n",
    "\n",
    "Adding new elements\n",
    "\n",
    "person['birth_year'] = 1990\n",
    "print(person)"
   ]
  },
  {
   "cell_type": "code",
   "execution_count": 10,
   "metadata": {},
   "outputs": [
    {
     "name": "stdout",
     "output_type": "stream",
     "text": [
      "{'name': 'Carlos', 'age': 32}\n"
     ]
    }
   ],
   "source": [
    "# Base syntax\n",
    "person = {'name': 'Carlos', 'age': 32}\n",
    "print(person)"
   ]
  },
  {
   "cell_type": "code",
   "execution_count": 11,
   "metadata": {},
   "outputs": [
    {
     "name": "stdout",
     "output_type": "stream",
     "text": [
      "Carlos\n"
     ]
    }
   ],
   "source": [
    "# Accesing properties\n",
    "print(person['name'], person['age'])"
   ]
  },
  {
   "cell_type": "code",
   "execution_count": 12,
   "metadata": {},
   "outputs": [
    {
     "data": {
      "text/plain": [
       "'key does not exist'"
      ]
     },
     "execution_count": 12,
     "metadata": {},
     "output_type": "execute_result"
    }
   ],
   "source": [
    "# person['unknown_key'] => will throw an error\n",
    "person.get('unknown_key', 'key does not exist')"
   ]
  },
  {
   "cell_type": "code",
   "execution_count": 13,
   "metadata": {},
   "outputs": [
    {
     "data": {
      "text/plain": [
       "{'name': 'Carlos', 'age': 32, 'birth_year': 1990}"
      ]
     },
     "execution_count": 13,
     "metadata": {},
     "output_type": "execute_result"
    }
   ],
   "source": [
    "# Creating new values in a dict\n",
    "person['birth_year'] = 1990\n",
    "person"
   ]
  },
  {
   "cell_type": "code",
   "execution_count": 14,
   "metadata": {},
   "outputs": [
    {
     "name": "stdout",
     "output_type": "stream",
     "text": [
      "name\n",
      "age\n",
      "birth_year\n"
     ]
    }
   ],
   "source": [
    "# Iteration over keys\n",
    "for key in person:\n",
    "    print(key)"
   ]
  },
  {
   "cell_type": "code",
   "execution_count": 15,
   "metadata": {},
   "outputs": [
    {
     "name": "stdout",
     "output_type": "stream",
     "text": [
      "Carlos\n",
      "32\n",
      "1990\n"
     ]
    }
   ],
   "source": [
    "# Iteration over values\n",
    "for value in person.values():\n",
    "    print(value)"
   ]
  },
  {
   "cell_type": "code",
   "execution_count": 16,
   "metadata": {},
   "outputs": [
    {
     "name": "stdout",
     "output_type": "stream",
     "text": [
      "name Carlos\n",
      "age 32\n",
      "birth_year 1990\n"
     ]
    }
   ],
   "source": [
    "# Iteration over keys and values\n",
    "# items() return a tuple with key, value\n",
    "for key, value in person.items():\n",
    "    print(key, value)"
   ]
  },
  {
   "cell_type": "code",
   "execution_count": 20,
   "metadata": {},
   "outputs": [
    {
     "data": {
      "text/plain": [
       "['key is name, value is Carlos',\n",
       " 'key is age, value is 32',\n",
       " 'key is birth_year, value is 1990']"
      ]
     },
     "execution_count": 20,
     "metadata": {},
     "output_type": "execute_result"
    }
   ],
   "source": [
    "# List comprehensions are also available\n",
    "person_description = [\"key is {}, value is {}\".format(key, value) for key, value in person.items()]\n",
    "person_description"
   ]
  },
  {
   "cell_type": "code",
   "execution_count": 22,
   "metadata": {},
   "outputs": [
    {
     "name": "stdout",
     "output_type": "stream",
     "text": [
      "{'olá': 1, 'meu': 2, 'nome': 2, 'é': 2, 'carlos': 1, 'eu': 1, 'gosto': 1, 'de': 1, 'cachorro': 3, 'por': 1, 'isso': 1, 'tenho': 1, 'um': 1, 'e': 1, 'o': 1, 'do': 1, 'mel': 1}\n"
     ]
    }
   ],
   "source": [
    "texto = \"Olá meu nome é Carlos eu gosto de cachorro por isso tenho um cachorro e o nome do meu cachorro é Mel\"\n",
    "texto = texto.lower()\n",
    "palavras = {}\n",
    "for palavra in texto.split(\" \"):\n",
    "    count = palavras.get(palavra, 0)\n",
    "    palavras[palavra] = count + 1\n",
    "print(palavras)"
   ]
  },
  {
   "cell_type": "code",
   "execution_count": 24,
   "metadata": {},
   "outputs": [
    {
     "name": "stdout",
     "output_type": "stream",
     "text": [
      "defaultdict(<class 'int'>, {'olá': 1, 'meu': 2, 'nome': 2, 'é': 2, 'carlos': 1, 'eu': 1, 'gosto': 1, 'de': 1, 'cachorro': 3, 'por': 1, 'isso': 1, 'tenho': 1, 'um': 1, 'e': 1, 'o': 1, 'do': 1, 'mel': 1})\n"
     ]
    }
   ],
   "source": [
    "from collections import defaultdict\n",
    "\n",
    "palavras = defaultdict(int)\n",
    "for palavra in texto.split(\" \"):\n",
    "    count = palavras[palavra]\n",
    "    palavras[palavra] = count + 1\n",
    "print(palavras)"
   ]
  },
  {
   "cell_type": "code",
   "execution_count": 25,
   "metadata": {},
   "outputs": [
    {
     "name": "stdout",
     "output_type": "stream",
     "text": [
      "defaultdict(<class 'int'>, {'olá': 1, 'meu': 2, 'nome': 2, 'é': 2, 'carlos': 1, 'eu': 1, 'gosto': 1, 'de': 1, 'cachorro': 3, 'por': 1, 'isso': 1, 'tenho': 1, 'um': 1, 'e': 1, 'o': 1, 'do': 1, 'mel': 1})\n"
     ]
    }
   ],
   "source": [
    "palavras = defaultdict(int)\n",
    "for palavra in texto.split(\" \"):\n",
    "    palavras[palavra] += 1\n",
    "print(palavras)"
   ]
  },
  {
   "cell_type": "code",
   "execution_count": 27,
   "metadata": {},
   "outputs": [
    {
     "name": "stdout",
     "output_type": "stream",
     "text": [
      "Counter({'cachorro': 3, 'meu': 2, 'nome': 2, 'é': 2, 'olá': 1, 'carlos': 1, 'eu': 1, 'gosto': 1, 'de': 1, 'por': 1, 'isso': 1, 'tenho': 1, 'um': 1, 'e': 1, 'o': 1, 'do': 1, 'mel': 1})\n"
     ]
    },
    {
     "data": {
      "text/plain": [
       "3"
      ]
     },
     "execution_count": 27,
     "metadata": {},
     "output_type": "execute_result"
    }
   ],
   "source": [
    "from collections import Counter\n",
    "palavras = Counter(texto.split(\" \"))\n",
    "print(palavras)\n",
    "palavras['cachorro']"
   ]
  },
  {
   "cell_type": "code",
   "execution_count": 28,
   "metadata": {},
   "outputs": [],
   "source": [
    "texto1 = \"\"\"\n",
    "Resumo\n",
    "Neste artigo, vamos ver como construir um menu superior de uma aplicação Android de duas formas:\n",
    "\n",
    "Com o sistema de Views: a maneira antiga do Android, mais inflexível e trabalhosa;\n",
    "Com o Slot API: uma nova opção do Jetpack Compose, mais flexível e customizável.\n",
    "Também, vamos usar esse padrão em outras partes do aplicativo e, temos até mesmo um desafio para você aprofundar seus estudos!\n",
    "\n",
    "Vamos lá?\n",
    "\n",
    "Introdução\n",
    "Durante o processo de criação de componentes de UI (Interface gráfica), nos deparamos diversas vezes com implementações complicadas - e dentro do Android não seria diferente. Imagine que você, como dev Android, recebeu a tarefa de criar essa barra superior no seu layout:\n",
    "\n",
    "E então? Há duas possibilidades iniciais:\n",
    "\n",
    "A primeira opção seria utilizar os próprios componentes do sistema de Views, por exemplo, a ActionBar ou a ToolBar;\n",
    "A segunda alternativa seria fazer o menu através dos Layouts.\n",
    "Porém, um terceiro jeito de construir a barra superior seria com o Jetpack Compose, que facilita a criação de componentes semelhantes a esse.\n",
    "\n",
    "Assim, em um primeiro momento, vamos analisar como é feita uma configuração simples de ActionBar (pelo sistema de Views). Em seguida, veremos um jeito de fazer essa implementação com o Compose!Criando menu na Action Bar (Sistema de Views)\n",
    "Para saber como criar um menu na Action Bar, no antigo sistema de Views, veja os passos a seguir. Indicamos que você abra um projeto Android vazio para aprender com a gente!\n",
    "\n",
    "Criando um arquivo de menu\n",
    "Na pasta do seu projeto Android:\n",
    "\n",
    "Clique com o botão direito na pasta res;\n",
    "Vá em New, depois em Android Resource Directory ;\n",
    "Agora, em Resource type, selecione menu e dê um OK.\n",
    "Legal! Agora uma pasta será criada, e ela vai ser responsável pelos recursos de menu. Continuando:\n",
    "\n",
    "Clique com o botão direito do mouse, selecione New > Menu Resource File, dê o nome que preferir ao arquivo; aqui vamos utilizar action_bar.\n",
    "Configurando o menu\n",
    "Dentro do arquivo action_bar.xml, coloque um único item que representará um logout no nosso app, e o código do arquivo ficaria dessa forma:\n",
    "\"\"\""
   ]
  },
  {
   "cell_type": "code",
   "execution_count": 29,
   "metadata": {},
   "outputs": [],
   "source": [
    "texto2 = \"\"\"\n",
    "Normalmente, quando falamos de experiência do usuário, acabamos remetendo apenas à pessoas específicas que fazem parte do público-alvo daquilo que estamos construindo, mas é importante lembrar que todos somos pessoas usuárias, pois constantemente estamos interagindo e utilizando inúmeras coisas, e claro que dentre elas estão as interfaces digitais, como as de websites e aplicativos, e da mesma forma que todas as pessoas no mundo, temos nossas próprias exigências.\n",
    "\n",
    "Com o passar dos anos a tecnologia evolui, as tendências de design vão se atualizando, e tudo isso acontece para tornar a nossa vida mais fácil. Quanto mais prático um produto for, mais pessoas irá atrair, gerando sorrisos e feedbacks extremamente positivos, que é o resultado que todos almejamos desde a concepção até a entrega. Para que essa harmonia pudesse ser mantida em interfaces digitais, garantindo que a usabilidade fosse impecável, em 1994, o pesquisador de interação humano-computador, consultor de usabilidade e co-fundador da Nielsen Norman Group, Jakob Nielsen, criou as 10 Heurísticas de Usabilidade para User Interface, servindo como um guia de boas práticas para manter a boa usabilidade em produtos digitais.\n",
    "\n",
    "1. Visibilidade do status do sistema\n",
    "A primeira heurística diz respeito ao fator da pessoa usuária poder diagnosticar na interface, por si só, sem a necessidade de ajuda extra, o que está acontecendo na interface. Entendendo o status da interface, a pessoa poderá decidir com mais facilidade quais passos deseja tomar em seguida.\n",
    "\n",
    "Um exemplo perfeito dessa heurística acontece aqui mesmo, na plataforma da Alura, assistindo aos cursos. No lado esquerdo, temos uma barra exibindo todos os conteúdos de uma aula, indicando em qual você está atualmente, marcando as visualizadas, e possibilitando que você retorne ou avance nos itens.\n",
    "\n",
    "2. Relação entre sistema e o mundo real\n",
    "As heurísticas dizem respeito a usabilidade em produtos digitais, mas nossa vivência e familiaridade principal é com o mundo real. Para que algo se torne mais entendível, e o objetivo seja mais fácil de ser concluído, o ideal é se basear em palavras, símbolos, conceitos ou qualquer outra coisa que possa remeter elementos do nosso cotidiano para representar uma atividade. Para isso, o sistema deve conversar da mesma forma ou semelhante ao do seu público-alvo, e claro que se levarmos em consideração, cada pessoa é única, e por essa razão que se faz necessário entender quem são seus usuários para fornecer a comunicação ideal.\n",
    "\n",
    "O seu smartphone tem muito disso, independente do sistema dele. Você pode notar que aplicativos como “Calculadora” ou “Telefone”, apesar de possuírem um visual específico, remetem diretamente a objetivos físicos. Sem precisar ler o nome do aplicativo, olhando apenas para o ícone, você já sabe diagnosticar perfeitamente do que se trata.\n",
    "\n",
    "3. Liberdade e controle do usuário\n",
    "Imagine que você está o dia inteiro num fluxo de trabalho. Nesse cenário, é normal se sentir cansado, e mais normal ainda acabar cometendo algum acidente, como apagar um e-mail que você nem mesmo leu. Nesse momento, mais do que tudo, a interface precisa colaborar para entender que isso pode ter sido um engano, e auxiliar você nessa recuperação. De forma breve, é como uma “válvula de escape” ou uma “saída de emergência”, como cita o próprio Jakob Nielsen.\n",
    "\n",
    "Um exemplo desse acontecimento são nos próprios e-mails, em que após selecionar e excluir um ou mais, o sistema retorne uma notificação avisando da exclusão, e permitindo que essa ação possa ser desfeita com apenas um clique.\n",
    "\n",
    "4. Padrões e consistências\n",
    "Um dos mais relevantes aspectos quando pensamos na construção de produtos digitais é na aplicação da identidade da marca nas telas que estaremos prestes a criar. O mínimo que uma pessoa espera ao utilizar o produto é que os itens com os quais ela irá interagir, termos que irá ler, ou até mesmo fluxos que irá passar, possuam concordâncias e similaridades, para que o reconhecimento cognitivo seja cada vez maior.\n",
    "\n",
    "A Google se tornou referência nessa heurística a partir do momento em que criaram o Material Design, seu próprio Design System. Note que todos os produtos da Google (principalmente nos seus aplicativos) possuem padrões visuais, permitindo que usuários dos seus produtos entendam e saibam utilizar facilmente a interface.\n",
    "\n",
    "5. Prevenção a erros\n",
    "Apesar de ser humano, ninguém gosta de errar. É algo que queremos o tempo todo evitar, mas que inevitavelmente pode acabar acontecendo, e como o próprio Jakob relata, existem dois formatos de erros que podem acabar acontecendo: o deslize, que ocorre pela falta de atenção, e o engano, que ocorre pela falta de compreensão. Você sabe tanto quanto eu que mensagens de erro são de suma importância, mas melhor do que isso é prever esses possíveis acidentes que, por mais que sejam mínimos, podem acabar surgindo.\n",
    "\n",
    "Sei que já citamos essa empresa aqui, mas não há referência maior para ser citada. Quando você vai fazer uma pesquisa no Google, ao digitar algo no campo de busca, eles já tentam prever aquilo que você irá pesquisar, trazendo algumas sugestões. Isso não é só para evitar que você erre, como também para te guiar a um resultado mais assertivo.\n",
    "jw\"\"\""
   ]
  },
  {
   "cell_type": "code",
   "execution_count": 46,
   "metadata": {},
   "outputs": [],
   "source": [
    "def analisa_frequencia_letras(texto):\n",
    "    aparicoes = Counter(texto.lower())\n",
    "    total_letras = sum(aparicoes.values())\n",
    "    proporcoes = [(letra, frequencia / total_letras) for letra, frequencia in aparicoes.items()]\n",
    "    proporcoes = Counter(dict(proporcoes))\n",
    "    mais_comuns = proporcoes.most_common(10)\n",
    "    for letra, proporcao in mais_comuns:\n",
    "        print(\"{}: {:.2f}%\".format(letra, proporcao * 100))\n"
   ]
  },
  {
   "cell_type": "code",
   "execution_count": 47,
   "metadata": {},
   "outputs": [
    {
     "name": "stdout",
     "output_type": "stream",
     "text": [
      " : 15.47%\n",
      "e: 9.40%\n",
      "o: 8.82%\n",
      "a: 8.53%\n",
      "r: 6.02%\n",
      "s: 5.93%\n",
      "i: 5.78%\n",
      "m: 4.43%\n",
      "n: 3.95%\n",
      "d: 3.61%\n"
     ]
    }
   ],
   "source": [
    "analisa_frequencia_letras(texto1)"
   ]
  },
  {
   "cell_type": "code",
   "execution_count": 48,
   "metadata": {},
   "outputs": [
    {
     "name": "stdout",
     "output_type": "stream",
     "text": [
      " : 15.78%\n",
      "e: 10.09%\n",
      "a: 9.42%\n",
      "o: 7.94%\n",
      "s: 7.51%\n",
      "i: 5.51%\n",
      "r: 5.09%\n",
      "n: 4.13%\n",
      "t: 3.96%\n",
      "d: 3.88%\n"
     ]
    }
   ],
   "source": [
    "analisa_frequencia_letras(texto2)"
   ]
  },
  {
   "cell_type": "code",
   "execution_count": 50,
   "metadata": {},
   "outputs": [
    {
     "data": {
      "text/plain": [
       "{'carlos': 32, 'juliana': 29}"
      ]
     },
     "execution_count": 50,
     "metadata": {},
     "output_type": "execute_result"
    }
   ],
   "source": [
    "dict([('carlos', 32), ('juliana', 29)])"
   ]
  },
  {
   "cell_type": "code",
   "execution_count": 56,
   "metadata": {},
   "outputs": [
    {
     "data": {
      "text/plain": [
       "{'Yan': '891234-5678',\n",
       " 'Pedro': '899999-9999',\n",
       " 'Ana': '898765-4321',\n",
       " 'João': '898887-7778',\n",
       " 'Fernando': '894345-5434',\n",
       " 'Luiza': '894567-7654'}"
      ]
     },
     "execution_count": 56,
     "metadata": {},
     "output_type": "execute_result"
    }
   ],
   "source": [
    "contatos = {'Yan': '91234-5678', 'Pedro': '99999-9999', 'Ana': '98765-4321', 'João': '98887-7778', 'Fernando': '94345-5434', 'Luiza': '94567-7654'}\n",
    "contatos2 = {nome: '8{}'.format(contato) for nome, contato in contatos.items()}\n",
    "contatos2"
   ]
  },
  {
   "cell_type": "code",
   "execution_count": null,
   "metadata": {},
   "outputs": [],
   "source": []
  }
 ],
 "metadata": {
  "kernelspec": {
   "display_name": "Python 3.9.6 64-bit",
   "language": "python",
   "name": "python3"
  },
  "language_info": {
   "codemirror_mode": {
    "name": "ipython",
    "version": 3
   },
   "file_extension": ".py",
   "mimetype": "text/x-python",
   "name": "python",
   "nbconvert_exporter": "python",
   "pygments_lexer": "ipython3",
   "version": "3.9.6"
  },
  "orig_nbformat": 4,
  "vscode": {
   "interpreter": {
    "hash": "31f2aee4e71d21fbe5cf8b01ff0e069b9275f58929596ceb00d14d90e3e16cd6"
   }
  }
 },
 "nbformat": 4,
 "nbformat_minor": 2
}
