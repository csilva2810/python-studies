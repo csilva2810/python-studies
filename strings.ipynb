{
 "cells": [
  {
   "cell_type": "code",
   "execution_count": 29,
   "metadata": {},
   "outputs": [
    {
     "name": "stdout",
     "output_type": "stream",
     "text": [
      "https://bytebank.com/cambio\n",
      "https://bytebank.com/cambio\n",
      "bank.com/cambio\n"
     ]
    }
   ],
   "source": [
    "url = \"https://bytebank.com/cambio?moedaOrigem=real&moedaDestino=dolar&quantidade=100\"\n",
    "print(url)\n",
    "\n",
    "indice_interrogacao = url.find('?')\n",
    "url_base = url[0:indice_interrogacao]\n",
    "print(url_base)\n",
    "\n",
    "url_parametros = url[indice_interrogacao+1:]\n",
    "print(url_parametros)\n",
    "\n",
    "parametro_busca = 'quantidade'\n",
    "indice_busca = url_parametros.find(parametro_busca)\n",
    "indice_valor = indice_busca + len(parametro_busca) + 1\n",
    "indice_e_comercial = url_parametros.find('&', indice_busca)\n",
    "valor = ''\n",
    "if indice_e_comercial == -1:\n",
    "    valor = url_parametros[indice_valor:]\n",
    "else:\n",
    "    valor = url_parametros[indice_valor:indice_e_comercial]\n",
    "\n",
    "print(valor)\n",
    "\n"
   ]
  },
  {
   "cell_type": "code",
   "execution_count": 21,
   "metadata": {},
   "outputs": [
    {
     "name": "stdout",
     "output_type": "stream",
     "text": [
      "Conversão de real para dolar\n",
      "Quantidade: 100\n",
      "O valor convertido é de: 18.18\n"
     ]
    }
   ],
   "source": [
    "import re\n",
    "\n",
    "# mesmo codigo usando classe\n",
    "class ExtratorURL:\n",
    "    def __init__(self, url):\n",
    "        self.url = self.sanitiza_url(url)\n",
    "        self.valida_url()\n",
    "\n",
    "    def sanitiza_url(self, url):\n",
    "        if type(url) == str:\n",
    "            return url.strip()\n",
    "        else:\n",
    "            return \"\"\n",
    "\n",
    "    def valida_url(self):\n",
    "        if not self.url:\n",
    "            raise ValueError(\"A URL está vazia\")\n",
    "\n",
    "        if not self.get_url_base().startswith(\"https\"):\n",
    "            raise ValueError(\"A URL base deve começar com https\")\n",
    "        \n",
    "        if not self.get_url_base().endswith(\"/cambio\"):\n",
    "            raise ValueError(\"A URL base deve terminar com /cambio\")\n",
    "        \n",
    "        padrao_url = re.compile('(http(s)?://)?(www.)?bytebank.com(.br)?/cambio')\n",
    "        match = padrao_url.match(self.url)\n",
    "        if not match:\n",
    "            raise ValueError('A URL não é válida')\n",
    "\n",
    "    def get_url_base(self):\n",
    "        indice_interrogacao = self.url.find('?')\n",
    "        url_base = ''\n",
    "        if indice_interrogacao != -1:\n",
    "            url_base = self.url[0:indice_interrogacao]\n",
    "        else:\n",
    "            url_base = self.url[0:]\n",
    "        return url_base\n",
    "\n",
    "    def get_url_parametros(self):\n",
    "        indice_interrogacao = self.url.find('?')\n",
    "        url_parametros = self.url[indice_interrogacao+1:]\n",
    "        return url_parametros\n",
    "\n",
    "    def get_valor_parametro(self, param):\n",
    "        url_parametros = self.get_url_parametros()\n",
    "        indice_busca = url_parametros.find(param)\n",
    "        indice_valor = indice_busca + len(param) + 1\n",
    "        indice_e_comercial = url_parametros.find('&', indice_busca)\n",
    "        valor = ''\n",
    "        if indice_e_comercial == -1:\n",
    "            valor = url_parametros[indice_valor:]\n",
    "        else:\n",
    "            valor = url_parametros[indice_valor:indice_e_comercial]\n",
    "        return valor\n",
    "\n",
    "    def __len__(self):\n",
    "        return len(self.url)\n",
    "    \n",
    "    def __str__(self):\n",
    "        return self.url\n",
    "    \n",
    "    def __eq__(self, other):\n",
    "        return self.url == other.url\n",
    "\n",
    "url = \"https://bytebank.com/cambio?moedaOrigem=real&moedaDestino=dolar&quantidade=100\"\n",
    "extrator = ExtratorURL(url)\n",
    "\n",
    "VALOR_DOLAR = 5.50\n",
    "moeda_origem = extrator.get_valor_parametro('moedaOrigem')\n",
    "moeda_destino = extrator.get_valor_parametro('moedaDestino')\n",
    "quantidade = int(extrator.get_valor_parametro('quantidade'))\n",
    "conversao = 0\n",
    "\n",
    "if moeda_destino == 'dolar':\n",
    "    conversao = quantidade / VALOR_DOLAR\n",
    "else:\n",
    "    conversao = quantidade * VALOR_DOLAR\n",
    "\n",
    "print('Conversão de {origem} para {destino}'.format(origem=moeda_origem, destino=moeda_destino))\n",
    "print('Quantidade:', quantidade)\n",
    "print('O valor convertido é de: {:.2f}'.format(conversao))\n"
   ]
  },
  {
   "cell_type": "code",
   "execution_count": 17,
   "metadata": {},
   "outputs": [
    {
     "name": "stdout",
     "output_type": "stream",
     "text": [
      "A url e valida\n"
     ]
    }
   ],
   "source": [
    "import re\n",
    "\n",
    "url = 'www.bytebank.com.br/cambio'\n",
    "padrao_url = re.compile('(http(s)?://)?(www.)?bytebank.com(.br)?/cambio')\n",
    "match = padrao_url.match(url)\n",
    "\n",
    "if not match:\n",
    "    raise ValueError('A URL não é válida')\n",
    "\n",
    "print('A url e valida')"
   ]
  },
  {
   "cell_type": "code",
   "execution_count": 11,
   "metadata": {},
   "outputs": [
    {
     "name": "stdout",
     "output_type": "stream",
     "text": [
      "4386573936 4386573936\n"
     ]
    }
   ],
   "source": [
    "nome = 'carlos'\n",
    "print(id(nome), id('carlos'))\n",
    "\n"
   ]
  }
 ],
 "metadata": {
  "kernelspec": {
   "display_name": "Python 3.9.6 64-bit",
   "language": "python",
   "name": "python3"
  },
  "language_info": {
   "codemirror_mode": {
    "name": "ipython",
    "version": 3
   },
   "file_extension": ".py",
   "mimetype": "text/x-python",
   "name": "python",
   "nbconvert_exporter": "python",
   "pygments_lexer": "ipython3",
   "version": "3.9.6"
  },
  "orig_nbformat": 4,
  "vscode": {
   "interpreter": {
    "hash": "31f2aee4e71d21fbe5cf8b01ff0e069b9275f58929596ceb00d14d90e3e16cd6"
   }
  }
 },
 "nbformat": 4,
 "nbformat_minor": 2
}
